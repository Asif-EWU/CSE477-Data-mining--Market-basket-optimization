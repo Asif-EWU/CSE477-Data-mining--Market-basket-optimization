{
 "cells": [
  {
   "cell_type": "code",
   "execution_count": null,
   "metadata": {},
   "outputs": [],
   "source": [
    "%run dataset.ipynb\n",
    "pd.set_option('display.max_colwidth', 199)\n",
    "pd.set_option('display.max_rows', 100)  # or 1000"
   ]
  },
  {
   "cell_type": "code",
   "execution_count": null,
   "metadata": {
    "scrolled": false
   },
   "outputs": [],
   "source": [
    "data_uk = (clean_data[clean_data['Country'] ==\"United Kingdom\"]\n",
    "          .groupby(['InvoiceNo', 'Description'])['Quantity']\n",
    "          .sum().unstack().reset_index().set_index('InvoiceNo'))\n",
    "data_uk.head()"
   ]
  },
  {
   "cell_type": "code",
   "execution_count": null,
   "metadata": {
    "scrolled": true
   },
   "outputs": [],
   "source": [
    "basket_uk = data_uk.applymap(lambda x: True if x > 0 else False)\n",
    "basket_uk.head()"
   ]
  },
  {
   "cell_type": "code",
   "execution_count": null,
   "metadata": {
    "scrolled": true
   },
   "outputs": [],
   "source": [
    "freq_itemset_uk= apriori(basket_uk, min_support=0.01, use_colnames=True)\n",
    "freq_itemset_uk['length'] = freq_itemset_uk['itemsets'].apply(lambda x: len(x))\n",
    "freq_itemset_uk"
   ]
  },
  {
   "cell_type": "code",
   "execution_count": null,
   "metadata": {},
   "outputs": [],
   "source": [
    "rules_uk = association_rules(freq_itemset_uk, metric=\"confidence\", min_threshold=0.5)\n",
    "rules_uk"
   ]
  }
 ],
 "metadata": {
  "kernelspec": {
   "display_name": "Python 3",
   "language": "python",
   "name": "python3"
  },
  "language_info": {
   "codemirror_mode": {
    "name": "ipython",
    "version": 3
   },
   "file_extension": ".py",
   "mimetype": "text/x-python",
   "name": "python",
   "nbconvert_exporter": "python",
   "pygments_lexer": "ipython3",
   "version": "3.8.3"
  }
 },
 "nbformat": 4,
 "nbformat_minor": 4
}
